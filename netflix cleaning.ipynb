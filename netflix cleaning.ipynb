{
 "cells": [
  {
   "cell_type": "code",
   "execution_count": 9,
   "id": "a9d4db03-5383-4a42-b612-6a2a0f6d3f31",
   "metadata": {},
   "outputs": [],
   "source": [
    "import pandas as pd\n",
    "\n",
    "df = pd.read_csv(\"C:/Users/Lisha/OneDrive/Desktop/engineering resources/projects/elevate lab tasks/netflix_titles.csv\")\n",
    "\n",
    "df_cleaned = df.copy()"
   ]
  },
  {
   "cell_type": "code",
   "execution_count": 11,
   "id": "d9cede1f-3b54-49aa-8e32-8134d9debb16",
   "metadata": {},
   "outputs": [],
   "source": [
    "df_cleaned.rename(columns={\n",
    "    'show_id': 'show_id',\n",
    "    'type': 'content_type',\n",
    "    'title': 'title',\n",
    "    'director': 'director',\n",
    "    'cast': 'cast',\n",
    "    'country': 'country',\n",
    "    'date_added': 'date_added',\n",
    "    'release_year': 'release_year',\n",
    "    'rating': 'rating',\n",
    "    'duration': 'duration',\n",
    "    'listed_in': 'genre',\n",
    "    'description': 'description'\n",
    "}, inplace=True)"
   ]
  },
  {
   "cell_type": "code",
   "execution_count": 13,
   "id": "a67cf754-544e-4913-af0e-7dc2290cbed6",
   "metadata": {},
   "outputs": [],
   "source": [
    "df_cleaned['director'] = df_cleaned['director'].fillna('Unknown')\n",
    "df_cleaned['cast'] = df_cleaned['cast'].fillna('Unknown')\n",
    "df_cleaned['country'] = df_cleaned['country'].fillna('Unknown')\n",
    "df_cleaned['rating'] = df_cleaned['rating'].fillna('Not Rated')\n",
    "df_cleaned['duration'] = df_cleaned['duration'].fillna('Unknown')"
   ]
  },
  {
   "cell_type": "code",
   "execution_count": null,
   "id": "42eb0005-4854-43d0-9f87-28ae4d8bd4c1",
   "metadata": {},
   "outputs": [],
   "source": []
  },
  {
   "cell_type": "code",
   "execution_count": 60,
   "id": "f2ca9b85-682d-499a-9ca0-d28b0e558ecb",
   "metadata": {},
   "outputs": [],
   "source": [
    "\n",
    "df_cleaned['date_added'] = df_cleaned['date_added'].fillna(df_cleaned['date_added'].mode()[0])  # ✅ STEP 1\n",
    "df_cleaned['date_added'] = pd.to_datetime(df_cleaned['date_added'].astype(str).str.strip(), errors='coerce')  # ✅ STEP 2\n"
   ]
  },
  {
   "cell_type": "code",
   "execution_count": 62,
   "id": "e0fbd41b-d0c2-4053-8149-cbb056de3bc0",
   "metadata": {},
   "outputs": [
    {
     "name": "stdout",
     "output_type": "stream",
     "text": [
      "0      2021-09-25\n",
      "5641   2017-01-07\n",
      "5639   2017-01-10\n",
      "5638   2017-01-12\n",
      "5637   2017-01-13\n",
      "Name: date_added, dtype: datetime64[ns]\n",
      "0\n"
     ]
    }
   ],
   "source": [
    "df_cleaned['year_added'] = df_cleaned['date_added'].dt.year\n",
    "df_cleaned['month_added'] = df_cleaned['date_added'].dt.month\n",
    "\n",
    "print(df_cleaned['date_added'].head())\n",
    "print(df_cleaned['date_added'].isna().sum())  # Should be zero or very low\n"
   ]
  },
  {
   "cell_type": "code",
   "execution_count": 64,
   "id": "9dfb6247-e955-42ae-980e-e3424acc1745",
   "metadata": {},
   "outputs": [],
   "source": [
    "df_cleaned['duration_num'] = df_cleaned['duration'].str.extract(r'(\\d+)').astype('float')\n",
    "df_cleaned['duration_type'] = df_cleaned['duration'].str.extract(r'([a-zA-Z]+)').fillna('unknown')\n",
    "df_cleaned['show_id'] = df_cleaned['show_id'].astype(str).str.replace(r'^s', '', regex=True)\n"
   ]
  },
  {
   "cell_type": "code",
   "execution_count": 66,
   "id": "56da34c9-f5af-485d-afc5-5c896c14629e",
   "metadata": {},
   "outputs": [],
   "source": [
    "df_cleaned['release_year'] = df_cleaned['release_year'].astype(int)\n",
    "df_cleaned['year_added'] = df_cleaned['year_added'].astype('Int64')  # allow NA\n",
    "df_cleaned['month_added'] = df_cleaned['month_added'].astype('Int64')\n",
    "df_cleaned['duration_num'] = df_cleaned['duration_num'].astype('float')\n",
    "df_cleaned['content_type'] = df_cleaned['content_type'].astype('category')\n",
    "df_cleaned['rating'] = df_cleaned['rating'].astype('category')\n",
    "df_cleaned['duration_type'] = df_cleaned['duration_type'].astype('category')\n",
    "df_cleaned['date_added'] = df_cleaned['date_added'].dt.strftime('%Y-%m-%d')\n"
   ]
  },
  {
   "cell_type": "code",
   "execution_count": 74,
   "id": "7adfcea1-a8e9-4cef-9cc7-422d361ac1e8",
   "metadata": {},
   "outputs": [],
   "source": [
    "# Sort by content_type (Movie first), then by country alphabetically\n",
    "df_cleaned['content_type'] = pd.Categorical(df_cleaned['content_type'], categories=['Movie', 'TV Show'], ordered=True)\n",
    "df_cleaned.sort_values(by=['content_type', 'country'], inplace=True)\n"
   ]
  },
  {
   "cell_type": "code",
   "execution_count": 76,
   "id": "e8180c17-9ac0-4c46-a471-7b49d269538b",
   "metadata": {},
   "outputs": [],
   "source": [
    "df_cleaned.to_csv(\"netflix_cleaned.csv\", index=False)"
   ]
  },
  {
   "cell_type": "code",
   "execution_count": 78,
   "id": "664cb35a-f5b4-4f65-a517-8c6caafd66ba",
   "metadata": {},
   "outputs": [],
   "source": [
    "df_cleaned.to_csv(\"C:/Users/Lisha/OneDrive/Desktop/engineering resources/projects/elevate lab tasks/netflix_cleaned.csv\", index=False)\n"
   ]
  },
  {
   "cell_type": "code",
   "execution_count": null,
   "id": "9a44722f-69fa-404a-bd5a-83b5b8abd2fe",
   "metadata": {},
   "outputs": [],
   "source": []
  }
 ],
 "metadata": {
  "kernelspec": {
   "display_name": "Python 3 (ipykernel)",
   "language": "python",
   "name": "python3"
  },
  "language_info": {
   "codemirror_mode": {
    "name": "ipython",
    "version": 3
   },
   "file_extension": ".py",
   "mimetype": "text/x-python",
   "name": "python",
   "nbconvert_exporter": "python",
   "pygments_lexer": "ipython3",
   "version": "3.12.4"
  }
 },
 "nbformat": 4,
 "nbformat_minor": 5
}
